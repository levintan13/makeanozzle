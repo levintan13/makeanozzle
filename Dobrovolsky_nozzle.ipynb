{
 "cells": [
  {
   "cell_type": "code",
   "execution_count": 24,
   "id": "b90ebb1c",
   "metadata": {},
   "outputs": [],
   "source": [
    "import numpy as np"
   ]
  },
  {
   "cell_type": "code",
   "execution_count": 25,
   "id": "bb2cc99d",
   "metadata": {},
   "outputs": [],
   "source": [
    "class Soplo:\n",
    "    #сюда я вынесла редко изменяемые параметры\n",
    "    g = 1.2\n",
    "    R = 363\n",
    "    T_k = 3650\n",
    "    phi_ras = 0.992\n",
    "    \n",
    "    def __init__(self, p_k, p_a, F_cr):\n",
    "        #вводим сами\n",
    "        self._p_k = p_k\n",
    "        self._p_a = p_a\n",
    "        self._F_cr = F_cr\n",
    "        \n",
    "        #само считается\n",
    "        \n",
    "        #параметры сопла\n",
    "        self._R_cr = np.sqrt(F_cr / np.pi)\n",
    "        self._r_skr = 0.45 * self._R_cr\n",
    "        self._R_skr = 1.5 * self._R_cr\n",
    "        self._theta_a = np.arccos(2 * self.phi_ras-1)\n",
    "        self._F_a_ = ((((2/(self.g + 1)) ** (1/(self.g - 1))) * np.sqrt((self.g - 1)/(self.g + 1)))\n",
    "                      / np.sqrt((p_a/p_k) ** (2/self.g) - (p_a/p_k) ** ((self.g + 1)/self.g)))#относительная площадь вых.сеч.\n",
    "        self._F_a = self._F_a_ * self._F_cr#площадь на выходе\n",
    "        self._R_a = np.sqrt(self._F_a / np.pi)#радиус на выходе\n",
    "        self._rad_ratio = self._R_a/self._R_cr\n",
    "        self._theta_m = 1\n",
    "        self._length = 1\n",
    "        #параметры начальных прямых. индекс cr - на скруглении крит.сеч., a - на вых. (обновляются по мере обращения к классу)\n",
    "        self._k_cr = 1\n",
    "        self._x_kas = 0\n",
    "        self._b_cr = 1\n",
    "        self._k_a = 0\n",
    "        self._b_a = 0\n",
    "        self._pt = 0\n",
    "        \n",
    "    def add_params_46(self, theta_m, lenrat):#добавляем параметры со страницы 46 и обновляем параметры геометрии\n",
    "        self._theta_m = theta_m * np.pi / 180\n",
    "        self._length = lenrat * self._R_cr\n",
    "        #обновление значений\n",
    "        self._k_cr = np.tan(self._theta_m)#угол наклона\n",
    "        self._x_kas = self._k_cr * self._r_skr / np.sqrt(1 + self._k_cr **2)\n",
    "        self._b_cr = self.rads(self._x_kas, self._r_skr) - self._x_kas * self._k_cr \n",
    "        self._k_a = - np.tan(self._theta_a)#угол наклона\n",
    "        self._b_a =  np.tan(self._theta_a) * self._length + self._R_a\n",
    "        self._pt = abs(self._b_a - self._b_cr) / abs(self._k_a - self._k_cr) #точка пересечения\n",
    "    \n",
    "    def rads(self, x, rad):#круг\n",
    "        return -np.sqrt(rad**2-x**2)+self._R_cr+rad\n",
    "    \n",
    "    def line_kas(self, x):#касательная к скруглению в крит сеч.\n",
    "        return(self._b_cr + self._k_cr * x)\n",
    "    \n",
    "    def line_ext(self, x):#прямая на выходе\n",
    "        return(self._k_a * x + self._b_a)\n",
    "    \n"
   ]
  },
  {
   "cell_type": "code",
   "execution_count": 26,
   "id": "068d15a9",
   "metadata": {},
   "outputs": [
    {
     "name": "stdout",
     "output_type": "stream",
     "text": [
      "{'_p_k': 5.92, '_p_a': 0.059, '_F_cr': 0.01, '_R_cr': 0.05641895835477563, '_r_skr': 0.025388531259649034, '_R_skr': 0.08462843753216345, '_theta_a': 0.17912481487888987, '_F_a_': 11.901661437014557, '_F_a': 0.11901661437014557, '_R_a': 0.19463854955825463, '_rad_ratio': 3.449878466991925, '_theta_m': 1, '_length': 1, '_k_cr': 1, '_x_kas': 0, '_b_cr': 1, '_k_a': 0, '_b_a': 0, '_pt': 0}\n",
      "Основные параметры сопла и опорных прямых для построения сопла\n"
     ]
    },
    {
     "data": {
      "text/plain": [
       "{'_p_k': 5.92,\n",
       " '_p_a': 0.059,\n",
       " '_F_cr': 0.01,\n",
       " '_R_cr': 0.05641895835477563,\n",
       " '_r_skr': 0.025388531259649034,\n",
       " '_R_skr': 0.08462843753216345,\n",
       " '_theta_a': 0.17912481487888987,\n",
       " '_F_a_': 11.901661437014557,\n",
       " '_F_a': 0.11901661437014557,\n",
       " '_R_a': 0.19463854955825463,\n",
       " '_rad_ratio': 3.449878466991925,\n",
       " '_theta_m': 0.4886921905584123,\n",
       " '_length': 0.4135509647405054,\n",
       " '_k_cr': 0.5317094316614788,\n",
       " '_x_kas': 0.011919193447305871,\n",
       " '_b_cr': 0.053053199478763705,\n",
       " '_k_a': -0.18106550773430974,\n",
       " '_b_a': 0.26951836496300785,\n",
       " '_pt': 0.30369356934425795}"
      ]
     },
     "execution_count": 26,
     "metadata": {},
     "output_type": "execute_result"
    }
   ],
   "source": [
    "s = Soplo(5.92, 0.059, 0.01)\n",
    "print(s.__dict__)\n",
    "s.add_params_46(28, 7.33)#добавляем параметры по графику\n",
    "print('Основные параметры сопла и опорных прямых для построения сопла')\n",
    "s.__dict__"
   ]
  },
  {
   "cell_type": "code",
   "execution_count": 27,
   "id": "40901ac5",
   "metadata": {},
   "outputs": [],
   "source": [
    "def returnlinear(x1, y1, x2, y2):#возвращает коэф. наклоная и смещение прямой по двум точкам\n",
    "    a = (y2-y1)/(x2-x1)\n",
    "    b = y1- x1 * (y2-y1)/(x2-x1)\n",
    "    return a,b\n",
    "\n",
    "def points_finder(n, X_cr, Y_cr, X_p, Y_p_cr, Y_p_a, X_a, Y_a):\n",
    "    xs_cr = [i for i in X_cr + (X_p-X_cr)*np.arange(1, n)/n] #X координата опорной точки на левой прямой\n",
    "    ys_cr = [s._k_cr* x + s._b_cr for x in xs_cr]#Y координата опорной точки на левой прямой\n",
    "\n",
    "    xs_a = [i for i in X_p + (X_a-X_p)*np.arange(1, n)/n]#X координата опорной точки на правой прямой\n",
    "    ys_a = [s._k_a* x + s._b_a for x in xs_a]#Y координата опорной точки на правой прямой\n",
    "    \n",
    "\n",
    "    #получаем параметры наклонных линий\n",
    "    a_s, b_s = returnlinear(np.array(xs_cr), np.array(ys_cr),np.array(xs_a),np.array(ys_a))\n",
    "    \n",
    "    points_x = [X_cr]\n",
    "    points_y = [Y_cr]\n",
    "    #поиск самых низких точек пересечения множества вспомогательных прямых\n",
    "    for i in range(len(a_s)-1):\n",
    "        point_x = []\n",
    "        point_y = []\n",
    "        for j in range(i+1, len(a_s)):#массив точек пересечения с оставшимися прямыми для i-й прямой\n",
    "            x = ((b_s[j]-b_s[i])/(a_s[i]-a_s[j]))\n",
    "            point_x.append(x)\n",
    "            y = a_s[i] * (b_s[j]-b_s[i])/(a_s[i]-a_s[j]) + b_s[i]\n",
    "            point_y.append(y)\n",
    "        #выбираем самую низкую точку\n",
    "        points_x.append(point_x[point_y.index(min(point_y))])\n",
    "        points_y.append(point_y[point_y.index(min(point_y))])  \n",
    "        plt.plot([xs_cr[i],xs_a[i]] , [ys_cr[i],ys_a[i]],  linewidth=0.25, color='k' )\n",
    "        \n",
    "    points_x.append(X_a)\n",
    "    points_y.append(Y_a)\n",
    "    plt.axis('scaled')\n",
    "    plt.show()\n",
    "    \n",
    "    return points_x, points_y\n"
   ]
  },
  {
   "cell_type": "code",
   "execution_count": 28,
   "id": "9ff3782f",
   "metadata": {},
   "outputs": [
    {
     "data": {
      "image/png": "[encoded data removed]",
      "text/plain": [
       "<Figure size 432x288 with 1 Axes>"
      ]
     },
     "metadata": {
      "needs_background": "light"
     },
     "output_type": "display_data"
    }
   ],
   "source": [
    "#координаты основных опорных точек: \n",
    "#касательная скруглению критического сечения на выходе\n",
    "X_cr = s._x_kas\n",
    "Y_cr = s._k_cr* X_cr+ s._b_cr\n",
    "#точка пересечения\n",
    "X_p = s._pt\n",
    "Y_p_cr = s._k_cr* X_p + s._b_cr\n",
    "Y_p_a = s._k_a * X_p + s._b_a\n",
    "#крайняя точка на выходе сопла\n",
    "X_a = s._length\n",
    "Y_a = s._R_a\n",
    "#количество опорных точек для построения\n",
    "n = 10\n",
    "\n",
    "points_x, points_y = points_finder(n, X_cr, Y_cr, X_p, Y_p_cr, Y_p_a, X_a, Y_a)\n"
   ]
  },
  {
   "cell_type": "code",
   "execution_count": 29,
   "id": "335a4376",
   "metadata": {},
   "outputs": [],
   "source": [
    "import matplotlib.pyplot as plt\n",
    "\n",
    "#для вывода сопла единым массивом точек\n",
    "\n",
    "x_do = list(np.linspace(-s._R_skr, 0, 100))\n",
    "x = list(np.linspace(0, s._x_kas, 100))\n",
    "\n",
    "X = x_do+x+points_x\n",
    "\n",
    "Y = [s.rads(i, s._R_skr) for i in x_do] + [s.rads(i, s._r_skr) for i in x] + points_y"
   ]
  },
  {
   "cell_type": "code",
   "execution_count": 30,
   "id": "617026b8",
   "metadata": {},
   "outputs": [
    {
     "data": {
      "image/png": "[encoded data removed]",
      "text/plain": [
       "<Figure size 432x288 with 1 Axes>"
      ]
     },
     "metadata": {
      "needs_background": "light"
     },
     "output_type": "display_data"
    }
   ],
   "source": [
    "axis = np.linspace(-2*s._R_skr, s._length+s._R_skr, 10)#ось симметрии\n",
    "plt.plot(axis , np.zeros(axis.shape[0]), '--', linewidth=1, color='k' )\n",
    "\n",
    "#вспомогательные прямые под углами тета м и тета а\n",
    "#x_line_kas = np.linspace(s._x_kas, s._pt, 100)\n",
    "#x_line_a = np.linspace(s._pt, x_a, 100)\n",
    "#plt.plot(x_line_kas, s.line_kas(x_line_kas))#касательная к радиусу скругления крит.сеч.\n",
    "#plt.plot(x_line_a, s.line_ext(x_line_a))#на выходе\n",
    "\n",
    "plt.fill_between(X, Y, alpha=0.4, color='b')\n",
    "plt.plot(X, Y, color='b')\n",
    "\n",
    "plt.fill_between(X, [-i for i in Y], alpha=0.4, color='b')\n",
    "plt.plot(X, [-i for i in Y],'b')\n",
    "\n",
    "plt.axis('scaled')\n",
    "plt.show()\n"
   ]
  },
  {
   "cell_type": "code",
   "execution_count": null,
   "id": "cf71ceaf",
   "metadata": {},
   "outputs": [],
   "source": []
  },
  {
   "cell_type": "code",
   "execution_count": null,
   "id": "27af10d8",
   "metadata": {},
   "outputs": [],
   "source": []
  }
 ],
 "metadata": {
  "kernelspec": {
   "display_name": "Python 3",
   "language": "python",
   "name": "python3"
  },
  "language_info": {
   "codemirror_mode": {
    "name": "ipython",
    "version": 3
   },
   "file_extension": ".py",
   "mimetype": "text/x-python",
   "name": "python",
   "nbconvert_exporter": "python",
   "pygments_lexer": "ipython3",
   "version": "3.8.8"
  }
 },
 "nbformat": 4,
 "nbformat_minor": 5
}
