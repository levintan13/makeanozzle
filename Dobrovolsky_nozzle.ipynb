{
 "cells": [
  {
   "cell_type": "code",
   "execution_count": 102,
   "id": "b90ebb1c",
   "metadata": {},
   "outputs": [],
   "source": [
    "import numpy as np\n",
    "import matplotlib.pyplot as plt\n"
   ]
  },
  {
   "cell_type": "code",
   "execution_count": 103,
   "id": "bb2cc99d",
   "metadata": {},
   "outputs": [],
   "source": [
    "class Soplo:\n",
    "    #rarely changed parameters\n",
    "    g = 1.2\n",
    "    R = 363\n",
    "    T_k = 3650\n",
    "    phi_ras = 0.992\n",
    "    \n",
    "    def __init__(self, p_k, p_a, F_cr):\n",
    "        #what is given to initialize class object\n",
    "        self._p_k = p_k\n",
    "        self._p_a = p_a\n",
    "        self._F_cr = F_cr\n",
    "        \n",
    "        #everuthing below calculates automatically\n",
    "        \n",
    "        #nozzle parameters\n",
    "        self._R_cr = np.sqrt(F_cr / np.pi) #critical section radius\n",
    "        self._r_skr = 0.45 * self._R_cr #radius of critical section exit\n",
    "        self._R_skr = 1.5 * self._R_cr #radius of critical section entrance\n",
    "        self._theta_a = np.arccos(2 * self.phi_ras-1) #line slope on exit section\n",
    "        self._F_a_ = ((((2/(self.g + 1)) ** (1/(self.g - 1))) * np.sqrt((self.g - 1)/(self.g + 1)))\n",
    "                      / np.sqrt((p_a/p_k) ** (2/self.g) - (p_a/p_k) ** ((self.g + 1)/self.g))) #exit to critical section area ratio\n",
    "        self._F_a = self._F_a_ * self._F_cr #exit section area\n",
    "        self._R_a = np.sqrt(self._F_a / np.pi) #exit section radius\n",
    "        self._rad_ratio = self._R_a/self._R_cr #exit to critical radius ratio\n",
    "        self._theta_m = 1 #line slope on entrance section (tangential to radius)\n",
    "        self._length = 1 #nozzle length\n",
    "        \n",
    "        #construction geometry parameters\n",
    "        #_cr - parameters of tangent to rounded radius of critical section exit\n",
    "        #_a - parameters of line on nozzle exit \n",
    "        #update after adding theta_m and lenrat using add_params_function\n",
    "        \n",
    "        self._k_cr = 1 #_cr line slope\n",
    "        self._x_kas = 0 #tangential point of _cr line & rounded radius\n",
    "        self._b_cr = 1 #_cr line y-intercept\n",
    "        self._k_a = 0 #_a line slope\n",
    "        self._b_a = 0 #_a line y-intercept\n",
    "        self._pt = 0 #x coordinate of two lines intercept\n",
    "        \n",
    "    def add_params_46(self, theta_m, lenrat):\n",
    "        #adds parameters from Dobrovolsky's p.46\n",
    "        self._theta_m = theta_m * np.pi / 180\n",
    "        self._length = lenrat * self._R_cr\n",
    "        #parameters update\n",
    "        self._k_cr = np.tan(self._theta_m)\n",
    "        self._x_kas = self._k_cr * self._r_skr / np.sqrt(1 + self._k_cr **2)\n",
    "        self._b_cr = self.rads(self._x_kas, self._r_skr) - self._x_kas * self._k_cr\n",
    "        self._k_a =  np.tan(self._theta_a)\n",
    "        self._b_a = - np.tan(self._theta_a) * self._length + self._R_a\n",
    "        self._pt = abs(self._b_a - self._b_cr) / abs(self._k_a - self._k_cr) \n",
    "    \n",
    "    def rads(self, x, rad):#rounding radius builder\n",
    "        return -np.sqrt(rad**2-x**2)+self._R_cr+rad\n",
    "    \n",
    "    def line_kas(self, x):#_cr line builder\n",
    "        return(self._b_cr + self._k_cr * x)\n",
    "    \n",
    "    def line_ext(self, x):#_a line builder\n",
    "        return(self._k_a * x + self._b_a)\n",
    "    \n"
   ]
  },
  {
   "cell_type": "code",
   "execution_count": 104,
   "id": "068d15a9",
   "metadata": {},
   "outputs": [
    {
     "name": "stdout",
     "output_type": "stream",
     "text": [
      "Current nozzle parameters\n"
     ]
    },
    {
     "data": {
      "text/plain": [
       "{'_p_k': 5.92,\n",
       " '_p_a': 0.059,\n",
       " '_F_cr': 0.01,\n",
       " '_R_cr': 0.05641895835477563,\n",
       " '_r_skr': 0.025388531259649034,\n",
       " '_R_skr': 0.08462843753216345,\n",
       " '_theta_a': 0.17912481487888987,\n",
       " '_F_a_': 11.901661437014557,\n",
       " '_F_a': 0.11901661437014557,\n",
       " '_R_a': 0.19463854955825463,\n",
       " '_rad_ratio': 3.449878466991925,\n",
       " '_theta_m': 1,\n",
       " '_length': 1,\n",
       " '_k_cr': 1,\n",
       " '_x_kas': 0,\n",
       " '_b_cr': 1,\n",
       " '_k_a': 0,\n",
       " '_b_a': 0,\n",
       " '_pt': 0}"
      ]
     },
     "execution_count": 104,
     "metadata": {},
     "output_type": "execute_result"
    }
   ],
   "source": [
    "s = Soplo(5.92, 0.059, 0.01)\n",
    "print('Current nozzle parameters')\n",
    "s.__dict__"
   ]
  },
  {
   "cell_type": "code",
   "execution_count": 105,
   "id": "d6e4b100",
   "metadata": {},
   "outputs": [
    {
     "name": "stdout",
     "output_type": "stream",
     "text": [
      "All nozzle parameters\n"
     ]
    },
    {
     "data": {
      "text/plain": [
       "{'_p_k': 5.92,\n",
       " '_p_a': 0.059,\n",
       " '_F_cr': 0.01,\n",
       " '_R_cr': 0.05641895835477563,\n",
       " '_r_skr': 0.025388531259649034,\n",
       " '_R_skr': 0.08462843753216345,\n",
       " '_theta_a': 0.17912481487888987,\n",
       " '_F_a_': 11.901661437014557,\n",
       " '_F_a': 0.11901661437014557,\n",
       " '_R_a': 0.19463854955825463,\n",
       " '_rad_ratio': 3.449878466991925,\n",
       " '_theta_m': 0.4886921905584123,\n",
       " '_length': 0.4135509647405054,\n",
       " '_k_cr': 0.5317094316614788,\n",
       " '_x_kas': 0.011919193447305871,\n",
       " '_b_cr': 0.053053199478763705,\n",
       " '_k_a': -0.18106550773430974,\n",
       " '_b_a': 0.26951836496300785,\n",
       " '_pt': 0.30369356934425795}"
      ]
     },
     "execution_count": 105,
     "metadata": {},
     "output_type": "execute_result"
    }
   ],
   "source": [
    "s.add_params_46(28, 7.33)#adding p.46 parameters\n",
    "print('All nozzle parameters')\n",
    "s.__dict__"
   ]
  },
  {
   "cell_type": "code",
   "execution_count": 106,
   "id": "40901ac5",
   "metadata": {},
   "outputs": [],
   "source": [
    "def returnlinear(x1, y1, x2, y2):#returns slope and y-intersept using two points\n",
    "    a = (y2-y1)/(x2-x1)\n",
    "    b = y1- x1 * (y2-y1)/(x2-x1)\n",
    "    return a,b\n",
    "\n",
    "def points_finder(n, X_cr, Y_cr, X_p, Y_p_cr, Y_p_a, X_a, Y_a):\n",
    "    xs_cr = [i for i in X_cr + (X_p-X_cr)*np.arange(0, n+1)/n] #X coordinates of _cr line points\n",
    "    ys_cr = [s._k_cr* x + s._b_cr for x in xs_cr]#Y coordinates of _cr line points\n",
    "\n",
    "    xs_a = [i for i in X_p + (X_a-X_p)*np.arange(0, n+1)/n]#X coordinates of _a line points\n",
    "    ys_a = [s._k_a* x + s._b_a for x in xs_a]#Y coordinates of _a line points\n",
    "    \n",
    "\n",
    "    #gets slopes and y-intercepts of the lines\n",
    "    a_s, b_s = returnlinear(np.array(xs_cr), np.array(ys_cr),np.array(xs_a),np.array(ys_a))\n",
    "    \n",
    "    points_x = [X_cr]\n",
    "    points_y = [Y_cr]\n",
    "    #searching for the resulting points (interceptions with lowest y)\n",
    "    for i in range(len(a_s)-1):\n",
    "        point_x = []\n",
    "        point_y = []\n",
    "        for j in range(i+1, len(a_s)):\n",
    "            x = ((b_s[j]-b_s[i])/(a_s[i]-a_s[j]))\n",
    "            point_x.append(x)\n",
    "            y = a_s[i] * (b_s[j]-b_s[i])/(a_s[i]-a_s[j]) + b_s[i]\n",
    "            point_y.append(y)\n",
    "        points_x.append(point_x[point_y.index(min(point_y))])\n",
    "        points_y.append(point_y[point_y.index(min(point_y))])  \n",
    "        plt.plot([xs_cr[i],xs_a[i]] , [ys_cr[i],ys_a[i]],  linewidth=0.25, color='k')\n",
    "    #building the supporting graph    \n",
    "    points_x.append(X_a)\n",
    "    points_y.append(Y_a)\n",
    "    plt.axis('scaled')\n",
    "    plt.show()\n",
    "    return points_x, points_y\n"
   ]
  },
  {
   "cell_type": "code",
   "execution_count": 107,
   "id": "9ff3782f",
   "metadata": {},
   "outputs": [
    {
     "data": {
      "image/png": "[encoded data removed]",
      "text/plain": [
       "<Figure size 432x288 with 1 Axes>"
      ]
     },
     "metadata": {
      "needs_background": "light"
     },
     "output_type": "display_data"
    }
   ],
   "source": [
    "#used points coordinates: \n",
    "#tangent point to rounded radius of critical section exit\n",
    "X_cr = s._x_kas\n",
    "Y_cr = s._k_cr* X_cr+ s._b_cr\n",
    "#interception point\n",
    "X_p = s._pt\n",
    "Y_p_cr = s._k_cr* X_p + s._b_cr\n",
    "Y_p_a = s._k_a * X_p + s._b_a\n",
    "#terminal point on exit section\n",
    "X_a = s._length\n",
    "Y_a = s._R_a\n",
    "#number for lines division\n",
    "n = 10\n",
    "#lines _cr and _a\n",
    "x_line_kas = np.linspace(s._x_kas, s._pt, 100)\n",
    "x_line_a = np.linspace(s._pt, s._length, 100)\n",
    "plt.plot(x_line_kas, s.line_kas(x_line_kas), linewidth=0.25, color='k')\n",
    "plt.plot(x_line_a, s.line_ext(x_line_a), linewidth=0.25, color='k')\n",
    "\n",
    "#function call\n",
    "points_x, points_y = points_finder(n, X_cr, Y_cr, X_p, Y_p_cr, Y_p_a, X_a, Y_a)\n"
   ]
  },
  {
   "cell_type": "code",
   "execution_count": 108,
   "id": "335a4376",
   "metadata": {},
   "outputs": [],
   "source": [
    "#creating nozzle points\n",
    "#x points for rounded radius on critical section entrance\n",
    "x_do = list(np.linspace(-s._R_skr/2, 0, 100))\n",
    "#x points for rounded radius on critical section exit\n",
    "x = list(np.linspace(0, s._x_kas, 100))\n",
    "#combining all x-coordinates\n",
    "X = x_do+x+points_x\n",
    "#combining all y-coordinates\n",
    "Y = [s.rads(i, s._R_skr) for i in x_do] + [s.rads(i, s._r_skr) for i in x] + points_y"
   ]
  },
  {
   "cell_type": "code",
   "execution_count": 109,
   "id": "617026b8",
   "metadata": {},
   "outputs": [
    {
     "data": {
      "image/png": "[encoded data removed]",
      "text/plain": [
       "<Figure size 432x288 with 1 Axes>"
      ]
     },
     "metadata": {
      "needs_background": "light"
     },
     "output_type": "display_data"
    }
   ],
   "source": [
    "#axis of symmetry\n",
    "axis = np.linspace(-2*s._R_skr, s._length+s._R_skr, 10)\n",
    "plt.plot(axis , np.zeros(axis.shape[0]), '--', linewidth=1, color='k' )\n",
    "#building the contour and filling the nozzle with color\n",
    "plt.fill_between(X, Y, alpha=0.4, color='gray')\n",
    "plt.plot(X, Y, color='gray')\n",
    "\n",
    "plt.fill_between(X, [-i for i in Y], alpha=0.4, color='gray')\n",
    "plt.plot(X, [-i for i in Y],'gray')\n",
    "\n",
    "plt.axis('scaled')\n",
    "plt.show()\n"
   ]
  },
  {
   "cell_type": "code",
   "execution_count": null,
   "id": "cf71ceaf",
   "metadata": {},
   "outputs": [],
   "source": []
  },
  {
   "cell_type": "code",
   "execution_count": null,
   "id": "27af10d8",
   "metadata": {},
   "outputs": [],
   "source": []
  }
 ],
 "metadata": {
  "kernelspec": {
   "display_name": "Python 3",
   "language": "python",
   "name": "python3"
  },
  "language_info": {
   "codemirror_mode": {
    "name": "ipython",
    "version": 3
   },
   "file_extension": ".py",
   "mimetype": "text/x-python",
   "name": "python",
   "nbconvert_exporter": "python",
   "pygments_lexer": "ipython3",
   "version": "3.8.8"
  }
 },
 "nbformat": 4,
 "nbformat_minor": 5
}
